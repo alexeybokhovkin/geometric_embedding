{
 "cells": [
  {
   "cell_type": "code",
   "execution_count": 1,
   "metadata": {},
   "outputs": [],
   "source": [
    "import pandas as pd\n",
    "import matplotlib.pyplot as plt\n",
    "import numpy as np\n",
    "from embeddings import get_embedding_matrix, sentence_to_indexes, MeanEmbedder\n",
    "from emb_path import glove_6B_300d_path, lexvec_7B_300d_path\n",
    "from gem import GEM\n",
    "from scipy.stats import pearsonr\n",
    "%matplotlib inline\n",
    "%load_ext autoreload\n",
    "%autoreload 2"
   ]
  },
  {
   "cell_type": "code",
   "execution_count": 2,
   "metadata": {},
   "outputs": [],
   "source": [
    "def read_sts(path):\n",
    "    df = pd.read_csv(path, sep='\\n', header=None, names=['row'])\n",
    "    df = pd.DataFrame(df.row.str.split('\\t', 6).tolist(), columns=['', 'genre','filename','year','score','sentence1','sentence2'])\n",
    "    df.drop(df.columns[[0,1,2,3]], inplace=True, axis=1)\n",
    "    df[\"score\"] = pd.to_numeric(df[\"score\"])\n",
    "    return df"
   ]
  },
  {
   "cell_type": "code",
   "execution_count": 3,
   "metadata": {},
   "outputs": [],
   "source": [
    "sts_dev = read_sts('data/sts_benchmark/sts-dev.csv')\n",
    "sts_test = read_sts('data/sts_benchmark/sts-test.csv')"
   ]
  },
  {
   "cell_type": "code",
   "execution_count": 4,
   "metadata": {},
   "outputs": [
    {
     "data": {
      "text/plain": [
       "((1500, 3), (1379, 3))"
      ]
     },
     "execution_count": 4,
     "metadata": {},
     "output_type": "execute_result"
    }
   ],
   "source": [
    "sts_dev.shape, sts_test.shape"
   ]
  },
  {
   "cell_type": "code",
   "execution_count": 5,
   "metadata": {
    "scrolled": false
   },
   "outputs": [
    {
     "data": {
      "text/html": [
       "<div>\n",
       "<style scoped>\n",
       "    .dataframe tbody tr th:only-of-type {\n",
       "        vertical-align: middle;\n",
       "    }\n",
       "\n",
       "    .dataframe tbody tr th {\n",
       "        vertical-align: top;\n",
       "    }\n",
       "\n",
       "    .dataframe thead th {\n",
       "        text-align: right;\n",
       "    }\n",
       "</style>\n",
       "<table border=\"1\" class=\"dataframe\">\n",
       "  <thead>\n",
       "    <tr style=\"text-align: right;\">\n",
       "      <th></th>\n",
       "      <th>score</th>\n",
       "      <th>sentence1</th>\n",
       "      <th>sentence2</th>\n",
       "    </tr>\n",
       "  </thead>\n",
       "  <tbody>\n",
       "    <tr>\n",
       "      <th>0</th>\n",
       "      <td>2.5</td>\n",
       "      <td>A girl is styling her hair.</td>\n",
       "      <td>A girl is brushing her hair.</td>\n",
       "    </tr>\n",
       "    <tr>\n",
       "      <th>1</th>\n",
       "      <td>3.6</td>\n",
       "      <td>A group of men play soccer on the beach.</td>\n",
       "      <td>A group of boys are playing soccer on the beach.</td>\n",
       "    </tr>\n",
       "    <tr>\n",
       "      <th>2</th>\n",
       "      <td>5.0</td>\n",
       "      <td>One woman is measuring another woman's ankle.</td>\n",
       "      <td>A woman measures another woman's ankle.</td>\n",
       "    </tr>\n",
       "    <tr>\n",
       "      <th>3</th>\n",
       "      <td>4.2</td>\n",
       "      <td>A man is cutting up a cucumber.</td>\n",
       "      <td>A man is slicing a cucumber.</td>\n",
       "    </tr>\n",
       "    <tr>\n",
       "      <th>4</th>\n",
       "      <td>1.5</td>\n",
       "      <td>A man is playing a harp.</td>\n",
       "      <td>A man is playing a keyboard.</td>\n",
       "    </tr>\n",
       "  </tbody>\n",
       "</table>\n",
       "</div>"
      ],
      "text/plain": [
       "   score                                      sentence1  \\\n",
       "0    2.5                    A girl is styling her hair.   \n",
       "1    3.6       A group of men play soccer on the beach.   \n",
       "2    5.0  One woman is measuring another woman's ankle.   \n",
       "3    4.2                A man is cutting up a cucumber.   \n",
       "4    1.5                       A man is playing a harp.   \n",
       "\n",
       "                                          sentence2  \n",
       "0                      A girl is brushing her hair.  \n",
       "1  A group of boys are playing soccer on the beach.  \n",
       "2           A woman measures another woman's ankle.  \n",
       "3                      A man is slicing a cucumber.  \n",
       "4                      A man is playing a keyboard.  "
      ]
     },
     "execution_count": 5,
     "metadata": {},
     "output_type": "execute_result"
    }
   ],
   "source": [
    "sts_test.head()"
   ]
  },
  {
   "cell_type": "code",
   "execution_count": 6,
   "metadata": {},
   "outputs": [
    {
     "name": "stdout",
     "output_type": "stream",
     "text": [
      "    mean + Glove     (sts-dev): 0.5180515345285918\n",
      "     GEM + Glove     (sts-dev): 0.7987556139733658\n",
      "    mean + LexVec    (sts-dev): 0.6659556237588711\n",
      "     GEM + LexVec    (sts-dev): 0.7686247576058542\n",
      "    mean + Glove    (sts-test): 0.27413319368302197\n",
      "     GEM + Glove    (sts-test): 0.6487797277243852\n",
      "    mean + LexVec   (sts-test): 0.38807813692042475\n",
      "     GEM + LexVec   (sts-test): 0.6329578558722708\n",
      "CPU times: user 4min 59s, sys: 4.2 s, total: 5min 3s\n",
      "Wall time: 3min 8s\n"
     ]
    }
   ],
   "source": [
    "%%time\n",
    "from sklearn.metrics.pairwise import cosine_similarity\n",
    "\n",
    "def pred(ind, sim):\n",
    "    n1 = sim.shape[0] // 2\n",
    "    return sim[ind, n1+ind]\n",
    "\n",
    "dfs = {\"(sts-dev)\": sts_dev,\n",
    "       \"(sts-test)\": sts_test}\n",
    "embds = {\"Glove\": get_embedding_matrix(glove_6B_300d_path),\n",
    "         \"LexVec\": get_embedding_matrix(lexvec_7B_300d_path, islexvec=True)}\n",
    "models = {\"mean\": MeanEmbedder, \"GEM\": GEM}\n",
    "\n",
    "for df_name, df in dfs.items():\n",
    "    for e_name, (e, v) in embds.items():\n",
    "        sentences_inds = []\n",
    "        for sent in df.sentence1.values.tolist():\n",
    "            sentences_inds.append(sentence_to_indexes(sent, v))\n",
    "        for sent in df.sentence2.values.tolist():\n",
    "            sentences_inds.append(sentence_to_indexes(sent, v))\n",
    "        for model_name, model in models.items():\n",
    "            m = model(sentences_inds, e)\n",
    "            result, s = m.get_sentence_embeddings()\n",
    "            sim = cosine_similarity(result.T)\n",
    "            df['pred'] = df.apply(lambda row: pred(row.name, sim), axis=1)\n",
    "            corr = df.corr().iloc[0,1]\n",
    "            print(\"{:>8} + {:<8} {:>10}: {:<10}\".format(model_name, e_name, df_name, corr))"
   ]
  },
  {
   "cell_type": "code",
   "execution_count": 10,
   "metadata": {},
   "outputs": [
    {
     "data": {
      "image/png": "[encoded data removed]",
      "text/plain": [
       "<Figure size 432x288 with 1 Axes>"
      ]
     },
     "metadata": {
      "image/png": {
       "height": 278,
       "width": 391
      },
      "needs_background": "light"
     },
     "output_type": "display_data"
    }
   ],
   "source": [
    "plt.plot(s)\n",
    "plt.yscale('log')\n",
    "plt.title(r'singular values of $X^c$')\n",
    "plt.xlabel('i')\n",
    "plt.ylabel(r'$\\sigma_i(X^c)$')\n",
    "plt.show()"
   ]
  }
 ],
 "metadata": {
  "kernelspec": {
   "display_name": "Python 3",
   "language": "python",
   "name": "python3"
  },
  "language_info": {
   "codemirror_mode": {
    "name": "ipython",
    "version": 3
   },
   "file_extension": ".py",
   "mimetype": "text/x-python",
   "name": "python",
   "nbconvert_exporter": "python",
   "pygments_lexer": "ipython3",
   "version": "3.6.7"
  }
 },
 "nbformat": 4,
 "nbformat_minor": 2
}
