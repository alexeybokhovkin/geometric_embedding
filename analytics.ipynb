{
 "cells": [
  {
   "cell_type": "code",
   "execution_count": 1,
   "metadata": {},
   "outputs": [],
   "source": [
    "import pandas as pd\n",
    "import matplotlib.pyplot as plt\n",
    "import numpy as np\n",
    "from embeddings import get_embedding_matrix, sentence_to_indexes\n",
    "from emb_path import glove_6B_300d_path, lexvec_7B_300d_path, glove_6B_50d_path\n",
    "from sklearn.metrics.pairwise import cosine_similarity\n",
    "from gem import SentenceEmbedder\n",
    "from scipy.stats import pearsonr\n",
    "from utils import read_sts\n",
    "%matplotlib inline\n",
    "%load_ext autoreload\n",
    "%autoreload 2"
   ]
  },
  {
   "cell_type": "code",
   "execution_count": 2,
   "metadata": {
    "collapsed": true
   },
   "outputs": [],
   "source": [
    "sts_dev = read_sts('data/sts_benchmark/sts-dev.csv')\n",
    "sts_test = read_sts('data/sts_benchmark/sts-test.csv')"
   ]
  },
  {
   "cell_type": "code",
   "execution_count": 3,
   "metadata": {},
   "outputs": [
    {
     "data": {
      "text/plain": [
       "((1500, 3), (1379, 3))"
      ]
     },
     "execution_count": 3,
     "metadata": {},
     "output_type": "execute_result"
    }
   ],
   "source": [
    "sts_dev.shape, sts_test.shape"
   ]
  },
  {
   "cell_type": "code",
   "execution_count": 4,
   "metadata": {
    "scrolled": false
   },
   "outputs": [
    {
     "data": {
      "text/html": [
       "<div>\n",
       "<style scoped>\n",
       "    .dataframe tbody tr th:only-of-type {\n",
       "        vertical-align: middle;\n",
       "    }\n",
       "\n",
       "    .dataframe tbody tr th {\n",
       "        vertical-align: top;\n",
       "    }\n",
       "\n",
       "    .dataframe thead th {\n",
       "        text-align: right;\n",
       "    }\n",
       "</style>\n",
       "<table border=\"1\" class=\"dataframe\">\n",
       "  <thead>\n",
       "    <tr style=\"text-align: right;\">\n",
       "      <th></th>\n",
       "      <th>score</th>\n",
       "      <th>sentence1</th>\n",
       "      <th>sentence2</th>\n",
       "    </tr>\n",
       "  </thead>\n",
       "  <tbody>\n",
       "    <tr>\n",
       "      <th>0</th>\n",
       "      <td>2.5</td>\n",
       "      <td>A girl is styling her hair.</td>\n",
       "      <td>A girl is brushing her hair.</td>\n",
       "    </tr>\n",
       "    <tr>\n",
       "      <th>1</th>\n",
       "      <td>3.6</td>\n",
       "      <td>A group of men play soccer on the beach.</td>\n",
       "      <td>A group of boys are playing soccer on the beach.</td>\n",
       "    </tr>\n",
       "    <tr>\n",
       "      <th>2</th>\n",
       "      <td>5.0</td>\n",
       "      <td>One woman is measuring another woman's ankle.</td>\n",
       "      <td>A woman measures another woman's ankle.</td>\n",
       "    </tr>\n",
       "    <tr>\n",
       "      <th>3</th>\n",
       "      <td>4.2</td>\n",
       "      <td>A man is cutting up a cucumber.</td>\n",
       "      <td>A man is slicing a cucumber.</td>\n",
       "    </tr>\n",
       "    <tr>\n",
       "      <th>4</th>\n",
       "      <td>1.5</td>\n",
       "      <td>A man is playing a harp.</td>\n",
       "      <td>A man is playing a keyboard.</td>\n",
       "    </tr>\n",
       "  </tbody>\n",
       "</table>\n",
       "</div>"
      ],
      "text/plain": [
       "   score                                      sentence1  \\\n",
       "0    2.5                    A girl is styling her hair.   \n",
       "1    3.6       A group of men play soccer on the beach.   \n",
       "2    5.0  One woman is measuring another woman's ankle.   \n",
       "3    4.2                A man is cutting up a cucumber.   \n",
       "4    1.5                       A man is playing a harp.   \n",
       "\n",
       "                                          sentence2  \n",
       "0                      A girl is brushing her hair.  \n",
       "1  A group of boys are playing soccer on the beach.  \n",
       "2           A woman measures another woman's ankle.  \n",
       "3                      A man is slicing a cucumber.  \n",
       "4                      A man is playing a keyboard.  "
      ]
     },
     "execution_count": 4,
     "metadata": {},
     "output_type": "execute_result"
    }
   ],
   "source": [
    "sts_test.head()"
   ]
  },
  {
   "cell_type": "code",
   "execution_count": 5,
   "metadata": {
    "collapsed": true
   },
   "outputs": [],
   "source": [
    "def pred(ind, sim):\n",
    "    n1 = sim.shape[0] // 2\n",
    "    return sim[ind, n1+ind]"
   ]
  },
  {
   "cell_type": "code",
   "execution_count": 6,
   "metadata": {},
   "outputs": [
    {
     "name": "stdout",
     "output_type": "stream",
     "text": [
      "CPU times: user 24.7 s, sys: 2.72 s, total: 27.4 s\n",
      "Wall time: 28.4 s\n"
     ]
    }
   ],
   "source": [
    "%%time\n",
    "\n",
    "dfs = {\"(sts-dev)\": sts_dev,\n",
    "       \"(sts-test)\": sts_test}\n",
    "embds = {\"Glove\": get_embedding_matrix(glove_6B_300d_path)}\n",
    "         #\"LexVec\": get_embedding_matrix(lexvec_7B_300d_path, islexvec=True)}"
   ]
  },
  {
   "cell_type": "code",
   "execution_count": 7,
   "metadata": {},
   "outputs": [
    {
     "name": "stdout",
     "output_type": "stream",
     "text": [
      "Unigrams:\n",
      "\n",
      "\n",
      "     GEM + Glove     (sts-dev): 0.7889738550639861\n",
      "    Mean + Glove     (sts-dev): 0.5179574524949324\n",
      "     GEM + Glove    (sts-test): 0.635855355833978\n",
      "    Mean + Glove    (sts-test): 0.23765156814800037\n",
      "CPU times: user 1min 6s, sys: 5.33 s, total: 1min 11s\n",
      "Wall time: 36.5 s\n"
     ]
    }
   ],
   "source": [
    "%%time\n",
    "\n",
    "print('Unigrams:\\n\\n')\n",
    "\n",
    "for df_name, df in dfs.items():\n",
    "    sentences = df.sentence1.values.tolist() + df.sentence2.values.tolist()\n",
    "    for e_name, (e, v) in embds.items():\n",
    "        model = SentenceEmbedder(sentences, e, v, False)\n",
    "        result, s = model.gem(sigma_power=3)\n",
    "        sim = cosine_similarity(result)\n",
    "        df['pred'] = df.apply(lambda row: pred(row.name, sim), axis=1)\n",
    "        corr = df.corr().iloc[0, 1]\n",
    "        print(\"{:>8} + {:<8} {:>10}: {:<10}\".format('GEM', e_name, df_name, corr))\n",
    "        \n",
    "        result, s = model.mean_embeddings()\n",
    "        sim = cosine_similarity(result)\n",
    "        df['pred'] = df.apply(lambda row: pred(row.name, sim), axis=1)\n",
    "        corr = df.corr().iloc[0,1]\n",
    "        print(\"{:>8} + {:<8} {:>10}: {:<10}\".format('Mean', e_name, df_name, corr))"
   ]
  },
  {
   "cell_type": "code",
   "execution_count": 8,
   "metadata": {
    "scrolled": true
   },
   "outputs": [
    {
     "name": "stdout",
     "output_type": "stream",
     "text": [
      "Bigrams:\n",
      "\n",
      "\n",
      "     GEM + Glove     (sts-dev): 0.7888617793313706\n",
      "    Mean + Glove     (sts-dev): 0.5179574524949327\n",
      "     GEM + Glove    (sts-test): 0.6396703616288574\n",
      "    Mean + Glove    (sts-test): 0.2376515681480004\n",
      "CPU times: user 22 s, sys: 1.72 s, total: 23.7 s\n",
      "Wall time: 12.1 s\n"
     ]
    }
   ],
   "source": [
    "%%time\n",
    "\n",
    "print('Bigrams:\\n\\n')\n",
    "\n",
    "for df_name, df in dfs.items():\n",
    "    sentences = df.sentence1.values.tolist() + df.sentence2.values.tolist()\n",
    "    for e_name, (e, v) in embds.items():\n",
    "        model = SentenceEmbedder(sentences, e, v, True)\n",
    "        result, s = model.gem(sigma_power=3)\n",
    "        sim = cosine_similarity(result)\n",
    "        df['pred'] = df.apply(lambda row: pred(row.name, sim), axis=1)\n",
    "        corr = df.corr().iloc[0, 1]\n",
    "        print(\"{:>8} + {:<8} {:>10}: {:<10}\".format('GEM', e_name, df_name, corr))\n",
    "        \n",
    "        result, s = model.mean_embeddings()\n",
    "        sim = cosine_similarity(result)\n",
    "        df['pred'] = df.apply(lambda row: pred(row.name, sim), axis=1)\n",
    "        corr = df.corr().iloc[0,1]\n",
    "        print(\"{:>8} + {:<8} {:>10}: {:<10}\".format('Mean', e_name, df_name, corr))"
   ]
  },
  {
   "cell_type": "code",
   "execution_count": 7,
   "metadata": {},
   "outputs": [
    {
     "data": {
      "image/png": "[encoded data removed]",
      "text/plain": [
       "<Figure size 432x288 with 1 Axes>"
      ]
     },
     "metadata": {},
     "output_type": "display_data"
    }
   ],
   "source": [
    "plt.plot(s)\n",
    "plt.yscale('log')\n",
    "plt.title(r'singular values of $X^c$')\n",
    "plt.xlabel('i')\n",
    "plt.ylabel(r'$\\sigma_i(X^c)$')\n",
    "plt.show()"
   ]
  },
  {
   "cell_type": "code",
   "execution_count": null,
   "metadata": {
    "collapsed": true
   },
   "outputs": [],
   "source": []
  }
 ],
 "metadata": {
  "kernelspec": {
   "display_name": "Python 3",
   "language": "python",
   "name": "python3"
  },
  "language_info": {
   "codemirror_mode": {
    "name": "ipython",
    "version": 3
   },
   "file_extension": ".py",
   "mimetype": "text/x-python",
   "name": "python",
   "nbconvert_exporter": "python",
   "pygments_lexer": "ipython3",
   "version": "3.6.3"
  }
 },
 "nbformat": 4,
 "nbformat_minor": 2
}
