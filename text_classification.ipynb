{
 "cells": [
  {
   "cell_type": "code",
   "execution_count": 1,
   "metadata": {
    "collapsed": true
   },
   "outputs": [],
   "source": [
    "import pandas as pd\n",
    "import matplotlib.pyplot as plt\n",
    "import numpy as np\n",
    "from embeddings import get_embedding_matrix, sentence_to_indexes\n",
    "from emb_path import glove_6B_300d_path, lexvec_7B_300d_path, glove_6B_50d_path\n",
    "from sklearn.metrics.pairwise import cosine_similarity\n",
    "from gem import SentenceEmbedder\n",
    "from scipy.stats import pearsonr\n",
    "from utils import read_sts\n",
    "import os\n",
    "from tqdm import tqdm_notebook as tqdm\n",
    "%matplotlib inline\n",
    "%load_ext autoreload\n",
    "%autoreload 2"
   ]
  },
  {
   "cell_type": "markdown",
   "metadata": {},
   "source": [
    "# Prepare datasets"
   ]
  },
  {
   "cell_type": "code",
   "execution_count": 2,
   "metadata": {
    "collapsed": true
   },
   "outputs": [],
   "source": [
    "IMDB_PATH = './data/imdb'\n",
    "\n",
    "IMDB_TRAIN = os.path.join(IMDB_PATH, 'train')\n",
    "IMDB_TRAIN_POS = os.path.join(IMDB_TRAIN, 'pos')\n",
    "IMDB_TRAIN_NEG = os.path.join(IMDB_TRAIN, 'neg')\n",
    "\n",
    "IMDB_TEST = os.path.join(IMDB_PATH, 'test')"
   ]
  },
  {
   "cell_type": "code",
   "execution_count": 3,
   "metadata": {
    "collapsed": true
   },
   "outputs": [],
   "source": [
    "train_pos_samples = [os.path.join(IMDB_TRAIN_POS, s) for s in os.listdir(IMDB_TRAIN_POS)]\n",
    "train_neg_samples = [os.path.join(IMDB_TRAIN_NEG, s) for s in os.listdir(IMDB_TRAIN_NEG)]\n",
    "\n",
    "test_samples = [os.path.join(IMDB_TEST, s) for s in os.listdir(IMDB_TEST)]"
   ]
  },
  {
   "cell_type": "code",
   "execution_count": 4,
   "metadata": {},
   "outputs": [
    {
     "name": "stdout",
     "output_type": "stream",
     "text": [
      "12500 12501 11001\n"
     ]
    }
   ],
   "source": [
    "print(len(train_pos_samples), len(train_neg_samples), len(test_samples))"
   ]
  },
  {
   "cell_type": "markdown",
   "metadata": {},
   "source": [
    "# Process every review"
   ]
  },
  {
   "cell_type": "code",
   "execution_count": 5,
   "metadata": {
    "collapsed": true
   },
   "outputs": [],
   "source": [
    "import nltk.data"
   ]
  },
  {
   "cell_type": "code",
   "execution_count": 6,
   "metadata": {
    "collapsed": true
   },
   "outputs": [],
   "source": [
    "# nltk.download('punkt')"
   ]
  },
  {
   "cell_type": "code",
   "execution_count": 7,
   "metadata": {
    "collapsed": true
   },
   "outputs": [],
   "source": [
    "tokenizer = nltk.data.load('tokenizers/punkt/english.pickle')"
   ]
  },
  {
   "cell_type": "code",
   "execution_count": 9,
   "metadata": {},
   "outputs": [
    {
     "data": {
      "application/vnd.jupyter.widget-view+json": {
       "model_id": "0e656ca1ab5c481993ba41783f9f3660",
       "version_major": 2,
       "version_minor": 0
      },
      "text/plain": [
       "HBox(children=(IntProgress(value=0, max=12500), HTML(value='')))"
      ]
     },
     "metadata": {},
     "output_type": "display_data"
    },
    {
     "name": "stdout",
     "output_type": "stream",
     "text": [
      "\n"
     ]
    },
    {
     "data": {
      "application/vnd.jupyter.widget-view+json": {
       "model_id": "7865ae4d219f4d4cb4190224f2061f73",
       "version_major": 2,
       "version_minor": 0
      },
      "text/plain": [
       "HBox(children=(IntProgress(value=0, max=12501), HTML(value='')))"
      ]
     },
     "metadata": {},
     "output_type": "display_data"
    }
   ],
   "source": [
    "pos_reviews = []\n",
    "neg_reviews = []\n",
    "\n",
    "try:\n",
    "    for review in tqdm(train_pos_samples[:]):\n",
    "        with open(review, 'r', encoding=\"utf-8\") as file:\n",
    "            data = file.read().replace('\\n', '')\n",
    "            data = data.replace('<br />', ' ')\n",
    "            data = data.replace('.', '')\n",
    "    #         data_sentences = tokenizer.tokenize(data)\n",
    "            pos_reviews += [data]\n",
    "except UnicodeDecodeError:\n",
    "    pass\n",
    "    \n",
    "try:\n",
    "    for review in tqdm(train_neg_samples[:]):\n",
    "        with open(review, 'r', encoding=\"utf-8\") as file:\n",
    "            data = file.read().replace('\\n', '')\n",
    "            data = data.replace('<br />', ' ')\n",
    "            data = data.replace('.', '')\n",
    "    #         data_sentences = tokenizer.tokenize(data)\n",
    "            neg_reviews += [data]\n",
    "except UnicodeDecodeError:\n",
    "    pass"
   ]
  },
  {
   "cell_type": "code",
   "execution_count": 10,
   "metadata": {},
   "outputs": [
    {
     "name": "stdout",
     "output_type": "stream",
     "text": [
      "25000\n"
     ]
    }
   ],
   "source": [
    "labels = [1]*len(pos_reviews) + [0]*len(neg_reviews)\n",
    "reviews = pos_reviews + neg_reviews\n",
    "print(len(reviews))"
   ]
  },
  {
   "cell_type": "code",
   "execution_count": 11,
   "metadata": {},
   "outputs": [
    {
     "data": {
      "text/plain": [
       "'Bromwell High is a cartoon comedy It ran at the same time as some other programs about school life, such as \"Teachers\" My 35 years in the teaching profession lead me to believe that Bromwell High\\'s satire is much closer to reality than is \"Teachers\" The scramble to survive financially, the insightful students who can see right through their pathetic teachers\\' pomp, the pettiness of the whole situation, all remind me of the schools I knew and their students When I saw the episode in which a student repeatedly tried to burn down the school, I immediately recalled  at  High A classic line: INSPECTOR: I\\'m here to sack one of your teachers STUDENT: Welcome to Bromwell High I expect that many adults of my age think that Bromwell High is far fetched What a pity that it isn\\'t!'"
      ]
     },
     "execution_count": 11,
     "metadata": {},
     "output_type": "execute_result"
    }
   ],
   "source": [
    "reviews[0]"
   ]
  },
  {
   "cell_type": "markdown",
   "metadata": {},
   "source": [
    "# Compute embeddings"
   ]
  },
  {
   "cell_type": "code",
   "execution_count": 12,
   "metadata": {
    "collapsed": true
   },
   "outputs": [],
   "source": [
    "embds = {\"Glove\": get_embedding_matrix(glove_6B_300d_path)}"
   ]
  },
  {
   "cell_type": "code",
   "execution_count": 13,
   "metadata": {},
   "outputs": [
    {
     "name": "stdout",
     "output_type": "stream",
     "text": [
      "Unigrams:\n",
      "\n",
      "\n"
     ]
    },
    {
     "name": "stderr",
     "output_type": "stream",
     "text": [
      "25000it [22:18, 18.67it/s]\n",
      "4767it [24:30,  3.24it/s]IOPub message rate exceeded.\n",
      "The notebook server will temporarily stop sending output\n",
      "to the client in order to avoid crashing it.\n",
      "To change this limit, set the config variable\n",
      "`--NotebookApp.iopub_msg_rate_limit`.\n",
      "\n",
      "Current values:\n",
      "NotebookApp.iopub_msg_rate_limit=1000.0 (msgs/sec)\n",
      "NotebookApp.rate_limit_window=3.0 (secs)\n",
      "\n",
      "25000it [2:09:01,  3.23it/s]"
     ]
    },
    {
     "name": "stdout",
     "output_type": "stream",
     "text": [
      "CPU times: user 13h 48min 37s, sys: 1d 18h 1min 28s, total: 2d 7h 50min 5s\n",
      "Wall time: 2h 31min 26s\n"
     ]
    },
    {
     "name": "stderr",
     "output_type": "stream",
     "text": [
      "\n"
     ]
    }
   ],
   "source": [
    "%%time\n",
    "\n",
    "embeddings = []\n",
    "\n",
    "print('Unigrams:\\n\\n')\n",
    "\n",
    "for e_name, (e, v) in embds.items():\n",
    "    model = SentenceEmbedder(reviews, e, v, False)\n",
    "    result, s = model.gem(sigma_power=3)\n",
    "    embeddings += [result]"
   ]
  },
  {
   "cell_type": "code",
   "execution_count": 16,
   "metadata": {},
   "outputs": [
    {
     "data": {
      "text/plain": [
       "(25000, 300)"
      ]
     },
     "execution_count": 16,
     "metadata": {},
     "output_type": "execute_result"
    }
   ],
   "source": [
    "embeddings[0].shape"
   ]
  },
  {
   "cell_type": "code",
   "execution_count": 17,
   "metadata": {
    "collapsed": true
   },
   "outputs": [],
   "source": [
    "# np.save('data/imdb_embeddings.npy', embeddings[0])"
   ]
  },
  {
   "cell_type": "markdown",
   "metadata": {},
   "source": [
    "# LogisticRegression"
   ]
  },
  {
   "cell_type": "code",
   "execution_count": 18,
   "metadata": {
    "collapsed": true
   },
   "outputs": [],
   "source": [
    "from sklearn.linear_model import LogisticRegression"
   ]
  },
  {
   "cell_type": "code",
   "execution_count": 48,
   "metadata": {
    "collapsed": true
   },
   "outputs": [],
   "source": [
    "imdb_embeddings = np.load('data/imdb_embeddings.npy')\n",
    "\n",
    "x_train = np.append(imdb_embeddings[:10000], imdb_embeddings[12500:22500], axis=0)\n",
    "y_train = np.array([1]*10000+[0]*10000)\n",
    "\n",
    "x_test = np.append(imdb_embeddings[10000:12500], imdb_embeddings[22500:], axis=0)\n",
    "y_test = np.array([1]*2500+[0]*2500)"
   ]
  },
  {
   "cell_type": "code",
   "execution_count": 49,
   "metadata": {},
   "outputs": [
    {
     "name": "stdout",
     "output_type": "stream",
     "text": [
      "Accuracy = 0.7328\n"
     ]
    }
   ],
   "source": [
    "lr = LogisticRegression(random_state=0, solver='lbfgs', multi_class='multinomial')\n",
    "\n",
    "lr.fit(x_train, y_train)\n",
    "\n",
    "y_preds = lr.predict_proba(x_test)[:,1]\n",
    "\n",
    "accuracy = ((y_preds > 0.5).astype(int) == y_test).mean()\n",
    "\n",
    "print(f'Accuracy = {accuracy}')"
   ]
  },
  {
   "cell_type": "markdown",
   "metadata": {},
   "source": [
    "# Quora Question Pairs"
   ]
  },
  {
   "cell_type": "code",
   "execution_count": 1,
   "metadata": {
    "collapsed": true
   },
   "outputs": [],
   "source": [
    "import pandas as pd\n",
    "from sklearn.model_selection import train_test_split\n",
    "\n",
    "import numpy as np\n",
    "from embeddings import get_embedding_matrix, sentence_to_indexes\n",
    "from emb_path import glove_6B_300d_path, lexvec_7B_300d_path, glove_6B_50d_path\n",
    "from sklearn.metrics.pairwise import cosine_similarity\n",
    "from gem import SentenceEmbedder"
   ]
  },
  {
   "cell_type": "code",
   "execution_count": 3,
   "metadata": {},
   "outputs": [],
   "source": [
    "data = pd.read_csv('data/quora/train.csv')\n",
    "data = data.dropna()\n",
    "\n",
    "ind_tr, ind_te = train_test_split(np.arange(len(data)), stratify=data['is_duplicate'], random_state=24, test_size=0.1)"
   ]
  },
  {
   "cell_type": "code",
   "execution_count": 4,
   "metadata": {},
   "outputs": [],
   "source": [
    "q1 = data['question1']\n",
    "q2 = data['question2']\n",
    "\n",
    "sentences = q1.tolist() + q2.tolist()"
   ]
  },
  {
   "cell_type": "code",
   "execution_count": 5,
   "metadata": {},
   "outputs": [],
   "source": [
    "e, v = get_embedding_matrix(glove_6B_300d_path)"
   ]
  },
  {
   "cell_type": "code",
   "execution_count": 6,
   "metadata": {},
   "outputs": [],
   "source": [
    "model = SentenceEmbedder(sentences, e, v, 3)"
   ]
  },
  {
   "cell_type": "code",
   "execution_count": 7,
   "metadata": {},
   "outputs": [
    {
     "name": "stderr",
     "output_type": "stream",
     "text": [
      "100%|██████████| 808574/808574 [01:36<00:00, 8412.72it/s]\n",
      "100%|██████████| 808574/808574 [13:32<00:00, 995.02it/s] \n"
     ]
    }
   ],
   "source": [
    "embedded_sentences, _ = model.gem(sigma_power=3)"
   ]
  },
  {
   "cell_type": "code",
   "execution_count": 8,
   "metadata": {},
   "outputs": [],
   "source": [
    "question1_embs = embedded_sentences[:len(sentences) // 2]\n",
    "question2_embs = embedded_sentences[-len(sentences) // 2:]"
   ]
  },
  {
   "cell_type": "code",
   "execution_count": 9,
   "metadata": {
    "collapsed": true
   },
   "outputs": [],
   "source": [
    "q1_train = question1_embs[ind_tr]\n",
    "q2_train = question2_embs[ind_tr]\n",
    "\n",
    "q1_test = question1_embs[ind_te]\n",
    "q2_test = question2_embs[ind_te]\n",
    "\n",
    "y_train = data['is_duplicate'].values[ind_tr]\n",
    "y_test = data['is_duplicate'].values[ind_te]"
   ]
  },
  {
   "cell_type": "code",
   "execution_count": 10,
   "metadata": {
    "collapsed": true
   },
   "outputs": [],
   "source": [
    "np.save('data/q1_embs.npy', question1_embs)\n",
    "np.save('data/q2_embs.npy', question2_embs)"
   ]
  },
  {
   "cell_type": "markdown",
   "metadata": {},
   "source": [
    "## Unsupervised"
   ]
  },
  {
   "cell_type": "code",
   "execution_count": null,
   "metadata": {
    "collapsed": true
   },
   "outputs": [],
   "source": [
    "%%time\n",
    "\n",
    "cos_sims = cosine_similarity(q1_test, q2_test)\n",
    "\n",
    "cosine_sims = cos_sims.diagonal()"
   ]
  },
  {
   "cell_type": "code",
   "execution_count": 45,
   "metadata": {},
   "outputs": [
    {
     "name": "stdout",
     "output_type": "stream",
     "text": [
      "Accuracy = 0.6610106606643745\n"
     ]
    }
   ],
   "source": [
    "accuracy = ((cosine_sims > 0.8).astype(int) == data_te['is_duplicate'].values).mean()\n",
    "\n",
    "print(f'Accuracy = {accuracy}')"
   ]
  },
  {
   "cell_type": "markdown",
   "metadata": {},
   "source": [
    "## Supervised"
   ]
  },
  {
   "cell_type": "code",
   "execution_count": 23,
   "metadata": {
    "collapsed": true
   },
   "outputs": [],
   "source": [
    "x_train = np.hstack((q1_train, q2_train))\n",
    "\n",
    "x_test = np.hstack((q1_test, q2_test))"
   ]
  },
  {
   "cell_type": "code",
   "execution_count": 24,
   "metadata": {},
   "outputs": [
    {
     "name": "stdout",
     "output_type": "stream",
     "text": [
      "Accuracy = 0.6612085384253877\n"
     ]
    }
   ],
   "source": [
    "lr = LogisticRegression(random_state=0, solver='lbfgs', multi_class='multinomial')\n",
    "\n",
    "lr.fit(x_train, y_train)\n",
    "\n",
    "y_preds = lr.predict_proba(x_test)[:,1]\n",
    "\n",
    "accuracy = ((y_preds > 0.5).astype(int) == y_test).mean()\n",
    "\n",
    "print(f'Accuracy = {accuracy}')"
   ]
  },
  {
   "cell_type": "code",
   "execution_count": null,
   "metadata": {
    "collapsed": true
   },
   "outputs": [],
   "source": []
  }
 ],
 "metadata": {
  "kernelspec": {
   "display_name": "Python 3",
   "language": "python",
   "name": "python3"
  }
 },
 "nbformat": 4,
 "nbformat_minor": 2
}
