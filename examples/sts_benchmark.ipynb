{
 "cells": [
  {
   "cell_type": "code",
   "execution_count": 1,
   "metadata": {
    "collapsed": true
   },
   "outputs": [],
   "source": [
    "import sys\n",
    "sys.path.append('../')\n",
    "\n",
    "import pandas as pd\n",
    "import numpy as np\n",
    "from scipy.stats import pearsonr\n",
    "from sklearn.metrics.pairwise import cosine_similarity\n",
    "\n",
    "import matplotlib.pyplot as plt\n",
    "\n",
    "from embeddings import get_embedding_matrix\n",
    "\n",
    "from gem import SentenceEmbedder\n",
    "from utils import read_sts"
   ]
  },
  {
   "cell_type": "code",
   "execution_count": 2,
   "metadata": {
    "collapsed": true
   },
   "outputs": [],
   "source": [
    "glove_6B_300d_path = '../data/glove/glove.6B.300d.txt'\n",
    "lexvec_7B_300d_path = '../data/lexvec/lexvec.enwiki+newscrawl.300d.W.pos.vectors'"
   ]
  },
  {
   "cell_type": "code",
   "execution_count": 3,
   "metadata": {
    "collapsed": true
   },
   "outputs": [],
   "source": [
    "sts_dev = read_sts('../data/sts_benchmark/sts-dev.csv')\n",
    "sts_test = read_sts('../data/sts_benchmark/sts-test.csv')"
   ]
  },
  {
   "cell_type": "code",
   "execution_count": 4,
   "metadata": {},
   "outputs": [
    {
     "data": {
      "text/plain": [
       "((1500, 3), (1379, 3))"
      ]
     },
     "execution_count": 4,
     "metadata": {},
     "output_type": "execute_result"
    }
   ],
   "source": [
    "sts_dev.shape, sts_test.shape"
   ]
  },
  {
   "cell_type": "code",
   "execution_count": 5,
   "metadata": {
    "scrolled": false
   },
   "outputs": [
    {
     "data": {
      "text/html": [
       "<div>\n",
       "<style scoped>\n",
       "    .dataframe tbody tr th:only-of-type {\n",
       "        vertical-align: middle;\n",
       "    }\n",
       "\n",
       "    .dataframe tbody tr th {\n",
       "        vertical-align: top;\n",
       "    }\n",
       "\n",
       "    .dataframe thead th {\n",
       "        text-align: right;\n",
       "    }\n",
       "</style>\n",
       "<table border=\"1\" class=\"dataframe\">\n",
       "  <thead>\n",
       "    <tr style=\"text-align: right;\">\n",
       "      <th></th>\n",
       "      <th>score</th>\n",
       "      <th>sentence1</th>\n",
       "      <th>sentence2</th>\n",
       "    </tr>\n",
       "  </thead>\n",
       "  <tbody>\n",
       "    <tr>\n",
       "      <th>0</th>\n",
       "      <td>2.5</td>\n",
       "      <td>A girl is styling her hair.</td>\n",
       "      <td>A girl is brushing her hair.</td>\n",
       "    </tr>\n",
       "    <tr>\n",
       "      <th>1</th>\n",
       "      <td>3.6</td>\n",
       "      <td>A group of men play soccer on the beach.</td>\n",
       "      <td>A group of boys are playing soccer on the beach.</td>\n",
       "    </tr>\n",
       "    <tr>\n",
       "      <th>2</th>\n",
       "      <td>5.0</td>\n",
       "      <td>One woman is measuring another woman's ankle.</td>\n",
       "      <td>A woman measures another woman's ankle.</td>\n",
       "    </tr>\n",
       "    <tr>\n",
       "      <th>3</th>\n",
       "      <td>4.2</td>\n",
       "      <td>A man is cutting up a cucumber.</td>\n",
       "      <td>A man is slicing a cucumber.</td>\n",
       "    </tr>\n",
       "    <tr>\n",
       "      <th>4</th>\n",
       "      <td>1.5</td>\n",
       "      <td>A man is playing a harp.</td>\n",
       "      <td>A man is playing a keyboard.</td>\n",
       "    </tr>\n",
       "  </tbody>\n",
       "</table>\n",
       "</div>"
      ],
      "text/plain": [
       "   score                                      sentence1  \\\n",
       "0    2.5                    A girl is styling her hair.   \n",
       "1    3.6       A group of men play soccer on the beach.   \n",
       "2    5.0  One woman is measuring another woman's ankle.   \n",
       "3    4.2                A man is cutting up a cucumber.   \n",
       "4    1.5                       A man is playing a harp.   \n",
       "\n",
       "                                          sentence2  \n",
       "0                      A girl is brushing her hair.  \n",
       "1  A group of boys are playing soccer on the beach.  \n",
       "2           A woman measures another woman's ankle.  \n",
       "3                      A man is slicing a cucumber.  \n",
       "4                      A man is playing a keyboard.  "
      ]
     },
     "execution_count": 5,
     "metadata": {},
     "output_type": "execute_result"
    }
   ],
   "source": [
    "sts_test.head()"
   ]
  },
  {
   "cell_type": "code",
   "execution_count": 6,
   "metadata": {},
   "outputs": [
    {
     "name": "stdout",
     "output_type": "stream",
     "text": [
      "CPU times: user 50.3 s, sys: 3.99 s, total: 54.3 s\n",
      "Wall time: 55.8 s\n"
     ]
    }
   ],
   "source": [
    "%%time\n",
    "\n",
    "dfs = {\"(sts-dev)\": sts_dev,\n",
    "       \"(sts-test)\": sts_test}\n",
    "\n",
    "embds = {\"Glove\": get_embedding_matrix(glove_6B_300d_path),\n",
    "         \"LexVec\": get_embedding_matrix(lexvec_7B_300d_path, skip_line=True)}"
   ]
  },
  {
   "cell_type": "code",
   "execution_count": 7,
   "metadata": {},
   "outputs": [
    {
     "name": "stdout",
     "output_type": "stream",
     "text": [
      "Unigrams:\n",
      "\n",
      "\n",
      "     GEM + Glove     (sts-dev): 0.7893357845629015\n",
      "    Mean + Glove     (sts-dev): 0.517957452494933\n",
      "     GEM + LexVec    (sts-dev): 0.7712879648983225\n",
      "    Mean + LexVec    (sts-dev): 0.6663107325891187\n",
      "     GEM + Glove    (sts-test): 0.6366006906456957\n",
      "    Mean + Glove    (sts-test): 0.2376515681479994\n",
      "     GEM + LexVec   (sts-test): 0.639251079864014\n",
      "    Mean + LexVec   (sts-test): 0.3875377305564788\n",
      "CPU times: user 2min 18s, sys: 10.7 s, total: 2min 28s\n",
      "Wall time: 1min 15s\n"
     ]
    }
   ],
   "source": [
    "%%time\n",
    "\n",
    "print('Unigrams:\\n\\n')\n",
    "\n",
    "for df_name, df in dfs.items():\n",
    "    sentences = df.sentence1.values.tolist() + df.sentence2.values.tolist()\n",
    "    for e_name, (e, v) in embds.items():\n",
    "        model = SentenceEmbedder(sentences, e, v)\n",
    "        embedded_sentences = model.gem(sigma_power=3)\n",
    "        sent1_embs = embedded_sentences[:len(sentences) // 2]\n",
    "        sent2_embs = embedded_sentences[-len(sentences) // 2:]\n",
    "        cos_sims = cosine_similarity(sent1_embs, sent2_embs).diagonal()\n",
    "        corr = pearsonr(df['score'].values, cos_sims)\n",
    "        print(\"{:>8} + {:<8} {:>10}: {:<10}\".format('GEM', e_name, df_name, corr[0]))\n",
    "        \n",
    "        embedded_sentences = model.mean_embeddings()\n",
    "        sent1_embs = embedded_sentences[:len(sentences) // 2]\n",
    "        sent2_embs = embedded_sentences[-len(sentences) // 2:]\n",
    "        cos_sims = cosine_similarity(sent1_embs, sent2_embs).diagonal()\n",
    "        corr = pearsonr(df['score'].values, cos_sims)\n",
    "        print(\"{:>8} + {:<8} {:>10}: {:<10}\".format('Mean', e_name, df_name, corr[0]))"
   ]
  },
  {
   "cell_type": "code",
   "execution_count": 10,
   "metadata": {
    "scrolled": true
   },
   "outputs": [
    {
     "name": "stdout",
     "output_type": "stream",
     "text": [
      "Bigrams:\n",
      "\n",
      "\n",
      "     GEM + Glove     (sts-dev): 0.7887874402736057\n",
      "    Mean + Glove     (sts-dev): 0.517957452494933\n",
      "     GEM + LexVec    (sts-dev): 0.7774679998788353\n",
      "    Mean + LexVec    (sts-dev): 0.6663107325891187\n",
      "     GEM + Glove    (sts-test): 0.6342502520637168\n",
      "    Mean + Glove    (sts-test): 0.2376515681479994\n",
      "     GEM + LexVec   (sts-test): 0.6510689233761388\n",
      "    Mean + LexVec   (sts-test): 0.3875377305564788\n",
      "CPU times: user 49.1 s, sys: 3.81 s, total: 52.9 s\n",
      "Wall time: 27.5 s\n"
     ]
    }
   ],
   "source": [
    "%%time\n",
    "\n",
    "print('Bigrams:\\n\\n')\n",
    "\n",
    "for df_name, df in dfs.items():\n",
    "    sentences = df.sentence1.values.tolist() + df.sentence2.values.tolist()\n",
    "    for e_name, (e, v) in embds.items():\n",
    "        model = SentenceEmbedder(sentences, e, v)\n",
    "        embedded_sentences = model.gem(sigma_power=3, ngrams=2)\n",
    "        sent1_embs = embedded_sentences[:len(sentences) // 2]\n",
    "        sent2_embs = embedded_sentences[-len(sentences) // 2:]\n",
    "        cos_sims = cosine_similarity(sent1_embs, sent2_embs).diagonal()\n",
    "        corr = pearsonr(df['score'].values, cos_sims)\n",
    "        print(\"{:>8} + {:<8} {:>10}: {:<10}\".format('GEM', e_name, df_name, corr[0]))\n",
    "        \n",
    "        embedded_sentences = model.mean_embeddings()\n",
    "        sent1_embs = embedded_sentences[:len(sentences) // 2]\n",
    "        sent2_embs = embedded_sentences[-len(sentences) // 2:]\n",
    "        cos_sims = cosine_similarity(sent1_embs, sent2_embs).diagonal()\n",
    "        corr = pearsonr(df['score'].values, cos_sims)\n",
    "        print(\"{:>8} + {:<8} {:>10}: {:<10}\".format('Mean', e_name, df_name, corr[0]))"
   ]
  },
  {
   "cell_type": "code",
   "execution_count": 11,
   "metadata": {},
   "outputs": [
    {
     "name": "stdout",
     "output_type": "stream",
     "text": [
      "Trigrams:\n",
      "\n",
      "\n",
      "     GEM + Glove     (sts-dev): 0.7835360047095904\n",
      "    Mean + Glove     (sts-dev): 0.517957452494933\n",
      "     GEM + LexVec    (sts-dev): 0.7773483673539873\n",
      "    Mean + LexVec    (sts-dev): 0.6663107325891187\n",
      "     GEM + Glove    (sts-test): 0.6488314415098579\n",
      "    Mean + Glove    (sts-test): 0.2376515681479994\n",
      "     GEM + LexVec   (sts-test): 0.6538780496149167\n",
      "    Mean + LexVec   (sts-test): 0.3875377305564788\n",
      "CPU times: user 25.9 s, sys: 1.93 s, total: 27.9 s\n",
      "Wall time: 14.6 s\n"
     ]
    }
   ],
   "source": [
    "%%time\n",
    "\n",
    "print('Trigrams:\\n\\n')\n",
    "\n",
    "for df_name, df in dfs.items():\n",
    "    sentences = df.sentence1.values.tolist() + df.sentence2.values.tolist()\n",
    "    for e_name, (e, v) in embds.items():\n",
    "        model = SentenceEmbedder(sentences, e, v)\n",
    "        embedded_sentences = model.gem(sigma_power=3, ngrams=3)\n",
    "        sent1_embs = embedded_sentences[:len(sentences) // 2]\n",
    "        sent2_embs = embedded_sentences[-len(sentences) // 2:]\n",
    "        cos_sims = cosine_similarity(sent1_embs, sent2_embs).diagonal()\n",
    "        corr = pearsonr(df['score'].values, cos_sims)\n",
    "        print(\"{:>8} + {:<8} {:>10}: {:<10}\".format('GEM', e_name, df_name, corr[0]))\n",
    "        \n",
    "        embedded_sentences = model.mean_embeddings()\n",
    "        sent1_embs = embedded_sentences[:len(sentences) // 2]\n",
    "        sent2_embs = embedded_sentences[-len(sentences) // 2:]\n",
    "        cos_sims = cosine_similarity(sent1_embs, sent2_embs).diagonal()\n",
    "        corr = pearsonr(df['score'].values, cos_sims)\n",
    "        print(\"{:>8} + {:<8} {:>10}: {:<10}\".format('Mean', e_name, df_name, corr[0]))"
   ]
  },
  {
   "cell_type": "code",
   "execution_count": null,
   "metadata": {
    "collapsed": true
   },
   "outputs": [],
   "source": []
  },
  {
   "cell_type": "code",
   "execution_count": 15,
   "metadata": {
    "collapsed": true
   },
   "outputs": [],
   "source": [
    "singular_values = model.singular_values"
   ]
  },
  {
   "cell_type": "code",
   "execution_count": 16,
   "metadata": {},
   "outputs": [
    {
     "data": {
      "image/png": "[encoded data removed]",
      "text/plain": [
       "<Figure size 432x288 with 1 Axes>"
      ]
     },
     "metadata": {},
     "output_type": "display_data"
    }
   ],
   "source": [
    "plt.plot(singular_values)\n",
    "plt.yscale('log')\n",
    "plt.title(r'singular values of $X^c$ (Glove) (sts-dev)')\n",
    "plt.xlabel('i')\n",
    "plt.ylabel(r'$\\sigma_i(X^c)$')\n",
    "plt.show()"
   ]
  }
 ],
 "metadata": {
  "kernelspec": {
   "display_name": "Python 3",
   "language": "python",
   "name": "python3"
  },
  "language_info": {
   "codemirror_mode": {
    "name": "ipython",
    "version": 3
   },
   "file_extension": ".py",
   "mimetype": "text/x-python",
   "name": "python",
   "nbconvert_exporter": "python",
   "pygments_lexer": "ipython3",
   "version": "3.6.6"
  }
 },
 "nbformat": 4,
 "nbformat_minor": 2
}
