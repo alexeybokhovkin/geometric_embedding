{
 "cells": [
  {
   "cell_type": "code",
   "execution_count": 1,
   "metadata": {},
   "outputs": [],
   "source": [
    "import pandas as pd\n",
    "import matplotlib.pyplot as plt\n",
    "import numpy as np\n",
    "from embeddings import get_embedding_matrix, sentence_to_indexes\n",
    "from emb_path import glove_6B_300d_path, lexvec_7B_300d_path, glove_6B_50d_path\n",
    "from sklearn.metrics.pairwise import cosine_similarity\n",
    "from gem import SentenceEmbedder\n",
    "from scipy.stats import pearsonr\n",
    "from utils import read_sts\n",
    "import os\n",
    "from tqdm import tqdm_notebook as tqdm\n",
    "%matplotlib inline\n",
    "%load_ext autoreload\n",
    "%autoreload 2"
   ]
  },
  {
   "cell_type": "markdown",
   "metadata": {},
   "source": [
    "# Prepare datasets"
   ]
  },
  {
   "cell_type": "code",
   "execution_count": 6,
   "metadata": {},
   "outputs": [],
   "source": [
    "IMDB_PATH = './data/imdb'\n",
    "\n",
    "IMDB_TRAIN = os.path.join(IMDB_PATH, 'train')\n",
    "IMDB_TRAIN_POS = os.path.join(IMDB_TRAIN, 'pos')\n",
    "IMDB_TRAIN_NEG = os.path.join(IMDB_TRAIN, 'neg')\n",
    "\n",
    "IMDB_TEST = os.path.join(IMDB_PATH, 'test')"
   ]
  },
  {
   "cell_type": "code",
   "execution_count": 7,
   "metadata": {},
   "outputs": [],
   "source": [
    "train_pos_samples = [os.path.join(IMDB_TRAIN_POS, s) for s in os.listdir(IMDB_TRAIN_POS)]\n",
    "train_neg_samples = [os.path.join(IMDB_TRAIN_NEG, s) for s in os.listdir(IMDB_TRAIN_NEG)]\n",
    "\n",
    "test_samples = [os.path.join(IMDB_TEST, s) for s in os.listdir(IMDB_TEST)]"
   ]
  },
  {
   "cell_type": "code",
   "execution_count": 8,
   "metadata": {},
   "outputs": [
    {
     "name": "stdout",
     "output_type": "stream",
     "text": [
      "12500 12500 11001\n"
     ]
    }
   ],
   "source": [
    "print(len(train_pos_samples), len(train_neg_samples), len(test_samples))"
   ]
  },
  {
   "cell_type": "markdown",
   "metadata": {},
   "source": [
    "# Process every review"
   ]
  },
  {
   "cell_type": "code",
   "execution_count": 9,
   "metadata": {},
   "outputs": [],
   "source": [
    "import nltk.data"
   ]
  },
  {
   "cell_type": "code",
   "execution_count": 10,
   "metadata": {},
   "outputs": [],
   "source": [
    "# nltk.download('punkt')"
   ]
  },
  {
   "cell_type": "code",
   "execution_count": 11,
   "metadata": {},
   "outputs": [],
   "source": [
    "tokenizer = nltk.data.load('tokenizers/punkt/english.pickle')"
   ]
  },
  {
   "cell_type": "code",
   "execution_count": 12,
   "metadata": {},
   "outputs": [
    {
     "data": {
      "application/vnd.jupyter.widget-view+json": {
       "model_id": "267df7c710384998a8e9d684bf5c958c",
       "version_major": 2,
       "version_minor": 0
      },
      "text/plain": [
       "HBox(children=(IntProgress(value=0, max=12500), HTML(value='')))"
      ]
     },
     "metadata": {},
     "output_type": "display_data"
    },
    {
     "name": "stdout",
     "output_type": "stream",
     "text": [
      "\n"
     ]
    },
    {
     "data": {
      "application/vnd.jupyter.widget-view+json": {
       "model_id": "9035fc650fe54032bd474615f7263de9",
       "version_major": 2,
       "version_minor": 0
      },
      "text/plain": [
       "HBox(children=(IntProgress(value=0, max=12500), HTML(value='')))"
      ]
     },
     "metadata": {},
     "output_type": "display_data"
    },
    {
     "name": "stdout",
     "output_type": "stream",
     "text": [
      "\n"
     ]
    }
   ],
   "source": [
    "pos_reviews = []\n",
    "neg_reviews = []\n",
    "\n",
    "\n",
    "for review in tqdm(train_pos_samples[:]):\n",
    "    try:\n",
    "        with open(review, 'r', encoding=\"utf-8\") as file:\n",
    "            data = file.read().replace('\\n', '')\n",
    "            data = data.replace('<br />', ' ')\n",
    "    #             data = data.replace('.', '')\n",
    "    #         data_sentences = tokenizer.tokenize(data)\n",
    "            pos_reviews += [data]\n",
    "    except UnicodeDecodeError:\n",
    "        continue\n",
    "    \n",
    "\n",
    "for review in tqdm(train_neg_samples[:]):\n",
    "    try:\n",
    "        with open(review, 'r', encoding=\"utf-8\") as file:\n",
    "            data = file.read().replace('\\n', '')\n",
    "            data = data.replace('<br />', ' ')\n",
    "    #             data = data.replace('.', '')\n",
    "    #         data_sentences = tokenizer.tokenize(data)\n",
    "            neg_reviews += [data]\n",
    "    except UnicodeDecodeError:\n",
    "        continue"
   ]
  },
  {
   "cell_type": "code",
   "execution_count": 13,
   "metadata": {},
   "outputs": [
    {
     "name": "stdout",
     "output_type": "stream",
     "text": [
      "25000\n"
     ]
    }
   ],
   "source": [
    "labels = [1]*len(pos_reviews) + [0]*len(neg_reviews)\n",
    "reviews = pos_reviews + neg_reviews\n",
    "print(len(reviews))"
   ]
  },
  {
   "cell_type": "code",
   "execution_count": 14,
   "metadata": {},
   "outputs": [
    {
     "data": {
      "text/plain": [
       "'Bromwell High is a cartoon comedy. It ran at the same time as some other programs about school life, such as \"Teachers\". My 35 years in the teaching profession lead me to believe that Bromwell High\\'s satire is much closer to reality than is \"Teachers\". The scramble to survive financially, the insightful students who can see right through their pathetic teachers\\' pomp, the pettiness of the whole situation, all remind me of the schools I knew and their students. When I saw the episode in which a student repeatedly tried to burn down the school, I immediately recalled ......... at .......... High. A classic line: INSPECTOR: I\\'m here to sack one of your teachers. STUDENT: Welcome to Bromwell High. I expect that many adults of my age think that Bromwell High is far fetched. What a pity that it isn\\'t!'"
      ]
     },
     "execution_count": 14,
     "metadata": {},
     "output_type": "execute_result"
    }
   ],
   "source": [
    "reviews[0]"
   ]
  },
  {
   "cell_type": "markdown",
   "metadata": {},
   "source": [
    "# Compute embeddings of entire reviews"
   ]
  },
  {
   "cell_type": "code",
   "execution_count": 15,
   "metadata": {},
   "outputs": [],
   "source": [
    "embds = {\"Glove\": get_embedding_matrix(glove_6B_300d_path)}"
   ]
  },
  {
   "cell_type": "code",
   "execution_count": 13,
   "metadata": {},
   "outputs": [
    {
     "name": "stdout",
     "output_type": "stream",
     "text": [
      "Unigrams:\n",
      "\n",
      "\n"
     ]
    },
    {
     "name": "stderr",
     "output_type": "stream",
     "text": [
      "25000it [22:18, 18.67it/s]\n",
      "4767it [24:30,  3.24it/s]IOPub message rate exceeded.\n",
      "The notebook server will temporarily stop sending output\n",
      "to the client in order to avoid crashing it.\n",
      "To change this limit, set the config variable\n",
      "`--NotebookApp.iopub_msg_rate_limit`.\n",
      "\n",
      "Current values:\n",
      "NotebookApp.iopub_msg_rate_limit=1000.0 (msgs/sec)\n",
      "NotebookApp.rate_limit_window=3.0 (secs)\n",
      "\n",
      "25000it [2:09:01,  3.23it/s]"
     ]
    },
    {
     "name": "stdout",
     "output_type": "stream",
     "text": [
      "CPU times: user 13h 48min 37s, sys: 1d 18h 1min 28s, total: 2d 7h 50min 5s\n",
      "Wall time: 2h 31min 26s\n"
     ]
    },
    {
     "name": "stderr",
     "output_type": "stream",
     "text": [
      "\n"
     ]
    }
   ],
   "source": [
    "%%time\n",
    "\n",
    "embeddings = []\n",
    "\n",
    "print('Unigrams:\\n\\n')\n",
    "\n",
    "for e_name, (e, v) in embds.items():\n",
    "    model = SentenceEmbedder(reviews, e, v, False)\n",
    "    result, s = model.gem(sigma_power=3)\n",
    "    embeddings += [result]"
   ]
  },
  {
   "cell_type": "code",
   "execution_count": 16,
   "metadata": {},
   "outputs": [
    {
     "data": {
      "text/plain": [
       "(25000, 300)"
      ]
     },
     "execution_count": 16,
     "metadata": {},
     "output_type": "execute_result"
    }
   ],
   "source": [
    "embeddings[0].shape"
   ]
  },
  {
   "cell_type": "code",
   "execution_count": 17,
   "metadata": {},
   "outputs": [],
   "source": [
    "np.save('imdb_embeddings.npy', embeddings[0])"
   ]
  },
  {
   "cell_type": "code",
   "execution_count": 40,
   "metadata": {},
   "outputs": [],
   "source": [
    "imdb_embeddings = np.load('./data/imdb_embeddings.npy')"
   ]
  },
  {
   "cell_type": "code",
   "execution_count": 28,
   "metadata": {},
   "outputs": [],
   "source": [
    "train_imdb = np.append(imdb_embeddings[:1800], imdb_embeddings[12500:14300], axis=0)\n",
    "train_imdb_labels = np.array([1]*1800+[0]*1800)\n",
    "\n",
    "test_imdb = np.append(imdb_embeddings[1800:2000], imdb_embeddings[14300:14500], axis=0)\n",
    "test_imdb_labels = np.array([1]*200+[0]*200)"
   ]
  },
  {
   "cell_type": "markdown",
   "metadata": {},
   "source": [
    "# Compute embeddings of separated sentences"
   ]
  },
  {
   "cell_type": "code",
   "execution_count": 14,
   "metadata": {},
   "outputs": [
    {
     "name": "stdout",
     "output_type": "stream",
     "text": [
      "Unigrams:\n",
      "\n",
      "\n"
     ]
    },
    {
     "data": {
      "application/vnd.jupyter.widget-view+json": {
       "model_id": "5d254d472c06435089cbded8f2c1cf39",
       "version_major": 2,
       "version_minor": 0
      },
      "text/plain": [
       "HBox(children=(IntProgress(value=0, max=2000), HTML(value='')))"
      ]
     },
     "metadata": {},
     "output_type": "display_data"
    },
    {
     "name": "stdout",
     "output_type": "stream",
     "text": [
      "\n"
     ]
    },
    {
     "name": "stderr",
     "output_type": "stream",
     "text": [
      "Exception in thread Thread-6:\n",
      "Traceback (most recent call last):\n",
      "  File \"/opt/conda/lib/python3.6/threading.py\", line 916, in _bootstrap_inner\n",
      "    self.run()\n",
      "  File \"/opt/conda/lib/python3.6/site-packages/tqdm/_monitor.py\", line 62, in run\n",
      "    for instance in self.tqdm_cls._instances:\n",
      "  File \"/opt/conda/lib/python3.6/_weakrefset.py\", line 60, in __iter__\n",
      "    for itemref in self.data:\n",
      "RuntimeError: Set changed size during iteration\n",
      "\n"
     ]
    },
    {
     "name": "stdout",
     "output_type": "stream",
     "text": [
      "\n"
     ]
    },
    {
     "data": {
      "application/vnd.jupyter.widget-view+json": {
       "model_id": "d6b81818362e403dadbf624d6aaaa75c",
       "version_major": 2,
       "version_minor": 0
      },
      "text/plain": [
       "HBox(children=(IntProgress(value=0, max=2000), HTML(value='')))"
      ]
     },
     "metadata": {},
     "output_type": "display_data"
    },
    {
     "name": "stdout",
     "output_type": "stream",
     "text": [
      "\n",
      "CPU times: user 3h 2min 49s, sys: 10h 39min 8s, total: 13h 41min 58s\n",
      "Wall time: 19min 37s\n"
     ]
    }
   ],
   "source": [
    "%%time\n",
    "\n",
    "embeddings = []\n",
    "\n",
    "print('Unigrams:\\n\\n')\n",
    "\n",
    "for review in tqdm(reviews[:2000]):\n",
    "    sentences = tokenizer.tokenize(review)\n",
    "    for e_name, (e, v) in embds.items():\n",
    "        model = SentenceEmbedder(sentences, e, v, False)\n",
    "        result, s = model.gem(sigma_power=3)\n",
    "        review_embedding = np.mean(result, axis=0)\n",
    "    embeddings += [review_embedding]\n",
    "    \n",
    "for review in tqdm(reviews[12500:14500]):\n",
    "    sentences = tokenizer.tokenize(review)\n",
    "    for e_name, (e, v) in embds.items():\n",
    "        model = SentenceEmbedder(sentences, e, v, False)\n",
    "        result, s = model.gem(sigma_power=3)\n",
    "        review_embedding = np.mean(result, axis=0)\n",
    "    embeddings += [review_embedding]"
   ]
  },
  {
   "cell_type": "code",
   "execution_count": null,
   "metadata": {},
   "outputs": [],
   "source": [
    "%%time\n",
    "\n",
    "embeddings = []\n",
    "\n",
    "print('Unigrams:\\n\\n')\n",
    "\n",
    "for review in tqdm(reviews[:2000]):\n",
    "    sentences = tokenizer.tokenize(review)\n",
    "    for e_name, (e, v) in embds.items():\n",
    "        model = SentenceEmbedder(sentences, e, v, False)\n",
    "        result, s = model.gem(sigma_power=3)\n",
    "        review_embedding = np.mean(result, axis=0)\n",
    "    embeddings += [review_embedding]\n",
    "    \n",
    "for review in tqdm(reviews[12500:14500]):\n",
    "    sentences = tokenizer.tokenize(review)\n",
    "    for e_name, (e, v) in embds.items():\n",
    "        model = SentenceEmbedder(sentences, e, v, False)\n",
    "        result, s = model.gem(sigma_power=3)\n",
    "        review_embedding = np.mean(result, axis=0)\n",
    "    embeddings += [review_embedding]"
   ]
  },
  {
   "cell_type": "code",
   "execution_count": 18,
   "metadata": {},
   "outputs": [],
   "source": [
    "embeddings = np.array(embeddings)"
   ]
  },
  {
   "cell_type": "code",
   "execution_count": 21,
   "metadata": {},
   "outputs": [],
   "source": [
    "train_imdb = np.append(embeddings[:1800], embeddings[2000:3800], axis=0)\n",
    "train_imdb_labels = np.array([1]*1800+[0]*1800)\n",
    "\n",
    "test_imdb = np.append(embeddings[1800:2000], embeddings[3800:], axis=0)\n",
    "test_imdb_labels = np.array([1]*200+[0]*200)"
   ]
  },
  {
   "cell_type": "code",
   "execution_count": 49,
   "metadata": {},
   "outputs": [
    {
     "data": {
      "text/plain": [
       "(4000, 300)"
      ]
     },
     "execution_count": 49,
     "metadata": {},
     "output_type": "execute_result"
    }
   ],
   "source": [
    "embeddings.shape"
   ]
  },
  {
   "cell_type": "code",
   "execution_count": 52,
   "metadata": {},
   "outputs": [],
   "source": [
    "np.save('embeddings.npy', embeddings)"
   ]
  },
  {
   "cell_type": "code",
   "execution_count": 16,
   "metadata": {},
   "outputs": [],
   "source": [
    "embeddings = np.load('embeddings.npy')"
   ]
  },
  {
   "cell_type": "markdown",
   "metadata": {},
   "source": [
    "# Treat sentences as words "
   ]
  },
  {
   "cell_type": "code",
   "execution_count": 33,
   "metadata": {},
   "outputs": [
    {
     "name": "stdout",
     "output_type": "stream",
     "text": [
      "Unigrams:\n",
      "\n",
      "\n"
     ]
    },
    {
     "data": {
      "application/vnd.jupyter.widget-view+json": {
       "model_id": "8780875d465d4147b1d639dab10bb3b1",
       "version_major": 2,
       "version_minor": 0
      },
      "text/plain": [
       "HBox(children=(IntProgress(value=0, max=2000), HTML(value='')))"
      ]
     },
     "metadata": {},
     "output_type": "display_data"
    },
    {
     "name": "stdout",
     "output_type": "stream",
     "text": [
      "\n"
     ]
    },
    {
     "name": "stderr",
     "output_type": "stream",
     "text": [
      "Exception in thread Thread-16:\n",
      "Traceback (most recent call last):\n",
      "  File \"/opt/conda/lib/python3.6/threading.py\", line 916, in _bootstrap_inner\n",
      "    self.run()\n",
      "  File \"/opt/conda/lib/python3.6/site-packages/tqdm/_monitor.py\", line 62, in run\n",
      "    for instance in self.tqdm_cls._instances:\n",
      "  File \"/opt/conda/lib/python3.6/_weakrefset.py\", line 60, in __iter__\n",
      "    for itemref in self.data:\n",
      "RuntimeError: Set changed size during iteration\n",
      "\n"
     ]
    },
    {
     "name": "stdout",
     "output_type": "stream",
     "text": [
      "\n"
     ]
    },
    {
     "data": {
      "application/vnd.jupyter.widget-view+json": {
       "model_id": "4889e79fb3b04f65833d1e3aa484cf13",
       "version_major": 2,
       "version_minor": 0
      },
      "text/plain": [
       "HBox(children=(IntProgress(value=0, max=2000), HTML(value='')))"
      ]
     },
     "metadata": {},
     "output_type": "display_data"
    },
    {
     "name": "stdout",
     "output_type": "stream",
     "text": [
      "\n",
      "CPU times: user 3h 7min 4s, sys: 10h 58min 44s, total: 14h 5min 48s\n",
      "Wall time: 22min\n"
     ]
    }
   ],
   "source": [
    "%%time\n",
    "\n",
    "sent_words_embeddings = []\n",
    "\n",
    "print('Unigrams:\\n\\n')\n",
    "\n",
    "for review in tqdm(reviews[:2000]):\n",
    "    sentences = tokenizer.tokenize(review)\n",
    "    emb_sent = []\n",
    "    for e_name, (e, v) in embds.items():\n",
    "        model = SentenceEmbedder(sentences, e, v, None, False)\n",
    "        result, s = model.gem(sigma_power=3)\n",
    "        emb_sent = emb_sent + [result]\n",
    "    emb_sent = np.array(emb_sent)\n",
    "    model = SentenceEmbedder(sentences, e, v, emb_sent, False)\n",
    "    result, s = model.gem_sentences(sigma_power=3)\n",
    "    review_embedding = np.mean(result, axis=0)\n",
    "    sent_words_embeddings += [review_embedding]\n",
    "    \n",
    "for review in tqdm(reviews[12500:14500]):\n",
    "    sentences = tokenizer.tokenize(review)\n",
    "    emb_sent = []\n",
    "    for e_name, (e, v) in embds.items():\n",
    "        model = SentenceEmbedder(sentences, e, v, None, False)\n",
    "        result, s = model.gem(sigma_power=3)\n",
    "        emb_sent = emb_sent + [result]\n",
    "    emb_sent = np.array(emb_sent)\n",
    "    model = SentenceEmbedder(sentences, e, v, emb_sent, False)\n",
    "    result, s = model.gem_sentences(sigma_power=3)\n",
    "    review_embedding = np.mean(result, axis=0)\n",
    "    sent_words_embeddings += [review_embedding]"
   ]
  },
  {
   "cell_type": "code",
   "execution_count": 35,
   "metadata": {},
   "outputs": [],
   "source": [
    "train_imdb = np.append(sent_words_embeddings[:1800], sent_words_embeddings[2000:3800], axis=0)\n",
    "train_imdb_labels = np.array([1]*1800+[0]*1800)\n",
    "\n",
    "test_imdb = np.append(sent_words_embeddings[1800:2000], sent_words_embeddings[3800:], axis=0)\n",
    "test_imdb_labels = np.array([1]*200+[0]*200)"
   ]
  },
  {
   "cell_type": "markdown",
   "metadata": {},
   "source": [
    "# Fit&Predict"
   ]
  },
  {
   "cell_type": "code",
   "execution_count": 37,
   "metadata": {},
   "outputs": [],
   "source": [
    "from sklearn.linear_model import LogisticRegression\n",
    "from sklearn.model_selection import cross_val_score"
   ]
  },
  {
   "cell_type": "code",
   "execution_count": 30,
   "metadata": {},
   "outputs": [],
   "source": [
    "clf = LogisticRegression(random_state=0, solver='lbfgs', multi_class='multinomial').fit(train_imdb, train_imdb_labels)"
   ]
  },
  {
   "cell_type": "code",
   "execution_count": 31,
   "metadata": {},
   "outputs": [],
   "source": [
    "y = clf.predict(test_imdb)"
   ]
  },
  {
   "cell_type": "code",
   "execution_count": 32,
   "metadata": {},
   "outputs": [
    {
     "data": {
      "text/plain": [
       "0.6825"
      ]
     },
     "execution_count": 32,
     "metadata": {},
     "output_type": "execute_result"
    }
   ],
   "source": [
    "np.mean(y == test_imdb_labels)"
   ]
  },
  {
   "cell_type": "code",
   "execution_count": 23,
   "metadata": {},
   "outputs": [],
   "source": [
    "clf = LogisticRegression(random_state=0, solver='lbfgs', multi_class='multinomial').fit(train_imdb, train_imdb_labels)"
   ]
  },
  {
   "cell_type": "code",
   "execution_count": 24,
   "metadata": {},
   "outputs": [
    {
     "data": {
      "text/plain": [
       "0.6175"
      ]
     },
     "execution_count": 24,
     "metadata": {},
     "output_type": "execute_result"
    }
   ],
   "source": [
    "y = clf.predict(test_imdb)\n",
    "np.mean(y == test_imdb_labels)"
   ]
  },
  {
   "cell_type": "code",
   "execution_count": 42,
   "metadata": {},
   "outputs": [],
   "source": [
    "def xval(x, size):\n",
    "    middle = len(x)//2\n",
    "    x = np.append(x[:size//2], x[middle:middle+size//2], axis=0)\n",
    "    y = [0]*(size//2) + [1]*(size//2)\n",
    "    clf = LogisticRegression(random_state=0, solver='lbfgs', multi_class='ovr')\n",
    "    scores = cross_val_score(clf, x, y, cv=5)\n",
    "    return scores"
   ]
  },
  {
   "cell_type": "code",
   "execution_count": 37,
   "metadata": {},
   "outputs": [],
   "source": [
    "scores = xval(embeddings, 2000)"
   ]
  },
  {
   "cell_type": "code",
   "execution_count": 41,
   "metadata": {},
   "outputs": [],
   "source": [
    "separate_sentences_score = np.mean(scores)"
   ]
  },
  {
   "cell_type": "code",
   "execution_count": 42,
   "metadata": {},
   "outputs": [
    {
     "data": {
      "text/plain": [
       "0.6185"
      ]
     },
     "execution_count": 42,
     "metadata": {},
     "output_type": "execute_result"
    }
   ],
   "source": [
    "separate_sentences_score"
   ]
  },
  {
   "cell_type": "code",
   "execution_count": 43,
   "metadata": {},
   "outputs": [
    {
     "data": {
      "application/vnd.jupyter.widget-view+json": {
       "model_id": "c76150843cbb4435889c4a63b3a1eb48",
       "version_major": 2,
       "version_minor": 0
      },
      "text/plain": [
       "HBox(children=(IntProgress(value=0, max=23), HTML(value='')))"
      ]
     },
     "metadata": {},
     "output_type": "display_data"
    },
    {
     "name": "stdout",
     "output_type": "stream",
     "text": [
      "\n"
     ]
    }
   ],
   "source": [
    "full_reviews_scores = []\n",
    "for size in tqdm(range(2000,25000,1000)):\n",
    "    score = np.mean(xval(imdb_embeddings, size))\n",
    "    full_reviews_scores += [score]"
   ]
  },
  {
   "cell_type": "code",
   "execution_count": 44,
   "metadata": {},
   "outputs": [
    {
     "data": {
      "text/plain": [
       "[0.6529999999999999,\n",
       " 0.6786666666666666,\n",
       " 0.67825,\n",
       " 0.6845999999999999,\n",
       " 0.684,\n",
       " 0.6970000000000001,\n",
       " 0.703875,\n",
       " 0.7030000000000001,\n",
       " 0.7093999999999999,\n",
       " 0.7064545454545454,\n",
       " 0.7109166666666666,\n",
       " 0.7208461538461538,\n",
       " 0.7231428571428571,\n",
       " 0.7243333333333334,\n",
       " 0.7218125000000001,\n",
       " 0.7226470588235294,\n",
       " 0.7253888888888887,\n",
       " 0.7237368421052632,\n",
       " 0.72405,\n",
       " 0.7248095238095237,\n",
       " 0.7261818181818182,\n",
       " 0.7274782608695654,\n",
       " 0.7262083333333333]"
      ]
     },
     "execution_count": 44,
     "metadata": {},
     "output_type": "execute_result"
    }
   ],
   "source": [
    "full_reviews_scores"
   ]
  },
  {
   "cell_type": "code",
   "execution_count": 48,
   "metadata": {},
   "outputs": [
    {
     "data": {
      "image/png": "[encoded data removed]",
      "text/plain": [
       "<Figure size 432x288 with 1 Axes>"
      ]
     },
     "metadata": {},
     "output_type": "display_data"
    }
   ],
   "source": [
    "plt.plot(full_reviews_scores)\n",
    "plt.show()"
   ]
  },
  {
   "cell_type": "code",
   "execution_count": 38,
   "metadata": {},
   "outputs": [],
   "source": [
    "clf = LogisticRegression(random_state=0, solver='lbfgs', multi_class='ovr').fit(train_imdb, train_imdb_labels)"
   ]
  },
  {
   "cell_type": "code",
   "execution_count": 39,
   "metadata": {},
   "outputs": [
    {
     "data": {
      "text/plain": [
       "0.565"
      ]
     },
     "execution_count": 39,
     "metadata": {},
     "output_type": "execute_result"
    }
   ],
   "source": [
    "y = clf.predict(test_imdb)\n",
    "np.mean(y == test_imdb_labels)"
   ]
  },
  {
   "cell_type": "code",
   "execution_count": null,
   "metadata": {},
   "outputs": [],
   "source": []
  }
 ],
 "metadata": {
  "kernelspec": {
   "display_name": "Python 3",
   "language": "python",
   "name": "python3"
  },
  "language_info": {
   "codemirror_mode": {
    "name": "ipython",
    "version": 3
   },
   "file_extension": ".py",
   "mimetype": "text/x-python",
   "name": "python",
   "nbconvert_exporter": "python",
   "pygments_lexer": "ipython3",
   "version": "3.6.5"
  }
 },
 "nbformat": 4,
 "nbformat_minor": 2
}
